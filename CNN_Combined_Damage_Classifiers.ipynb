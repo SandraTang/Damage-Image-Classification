{
  "nbformat": 4,
  "nbformat_minor": 0,
  "metadata": {
    "colab": {
      "name": "CNN Combined Damage Classifiers.ipynb",
      "provenance": [],
      "collapsed_sections": []
    },
    "kernelspec": {
      "name": "python3",
      "display_name": "Python 3"
    }
  },
  "cells": [
    {
      "cell_type": "code",
      "metadata": {
        "id": "QtN-2UEZz20P",
        "colab_type": "code",
        "colab": {
          "base_uri": "https://localhost:8080/",
          "height": 123
        },
        "outputId": "9e399041-7150-4e6c-9d7b-d781f15ab520"
      },
      "source": [
        "from google.colab import drive\n",
        "drive.mount('/content/gdrive')"
      ],
      "execution_count": null,
      "outputs": [
        {
          "output_type": "stream",
          "text": [
            "Go to this URL in a browser: https://accounts.google.com/o/oauth2/auth?client_id=947318989803-6bn6qk8qdgf4n4g3pfee6491hc0brc4i.apps.googleusercontent.com&redirect_uri=urn%3aietf%3awg%3aoauth%3a2.0%3aoob&scope=email%20https%3a%2f%2fwww.googleapis.com%2fauth%2fdocs.test%20https%3a%2f%2fwww.googleapis.com%2fauth%2fdrive%20https%3a%2f%2fwww.googleapis.com%2fauth%2fdrive.photos.readonly%20https%3a%2f%2fwww.googleapis.com%2fauth%2fpeopleapi.readonly&response_type=code\n",
            "\n",
            "Enter your authorization code:\n",
            "··········\n",
            "Mounted at /content/gdrive\n"
          ],
          "name": "stdout"
        }
      ]
    },
    {
      "cell_type": "code",
      "metadata": {
        "id": "KHfuuFYv0HMR",
        "colab_type": "code",
        "colab": {}
      },
      "source": [
        "from google.colab import files\n",
        "from PIL import Image\n",
        "import numpy as np\n",
        "from numpy import asarray \n",
        "import pandas as pd\n",
        "import torchvision\n",
        "from torchvision import transforms\n",
        "import os"
      ],
      "execution_count": null,
      "outputs": []
    },
    {
      "cell_type": "code",
      "metadata": {
        "id": "7nsJfUUm0HQa",
        "colab_type": "code",
        "colab": {
          "base_uri": "https://localhost:8080/",
          "height": 34
        },
        "outputId": "a54bff1e-20d9-4cd5-e168-23b76214f7b1"
      },
      "source": [
        "# cnn binary\n",
        "\n",
        "from keras.models import load_model\n",
        "binary_model = load_model('/content/gdrive/My Drive/riskmap_urop_data/cnn_damage.hdf5')\n",
        "print(binary_model)"
      ],
      "execution_count": null,
      "outputs": [
        {
          "output_type": "stream",
          "text": [
            "<tensorflow.python.keras.engine.sequential.Sequential object at 0x7fa0b0416518>\n"
          ],
          "name": "stdout"
        }
      ]
    },
    {
      "cell_type": "code",
      "metadata": {
        "id": "uS2fOPpu0Nn-",
        "colab_type": "code",
        "colab": {
          "base_uri": "https://localhost:8080/",
          "height": 34
        },
        "outputId": "62c49c47-438a-432d-eb9b-e8537686f3bf"
      },
      "source": [
        "# cnn 3 category (normal)\n",
        "\n",
        "normal_model = load_model('/content/gdrive/My Drive/riskmap_urop/cnnmodel.hdf5')\n",
        "print(normal_model)"
      ],
      "execution_count": null,
      "outputs": [
        {
          "output_type": "stream",
          "text": [
            "<tensorflow.python.keras.engine.sequential.Sequential object at 0x7fa0c47f0e48>\n"
          ],
          "name": "stdout"
        }
      ]
    },
    {
      "cell_type": "code",
      "metadata": {
        "id": "cPBJL-XV0HSw",
        "colab_type": "code",
        "colab": {}
      },
      "source": [
        "# test images\n",
        "\n",
        "from keras.preprocessing.image import img_to_array, load_img\n",
        "import tensorflow as tf\n",
        "import matplotlib.pyplot as plt\n",
        "import matplotlib.image as mpimg"
      ],
      "execution_count": null,
      "outputs": []
    },
    {
      "cell_type": "code",
      "metadata": {
        "id": "vmjH-lU60Hd6",
        "colab_type": "code",
        "colab": {}
      },
      "source": [
        "from matplotlib.pyplot import imshow\n",
        "%matplotlib inline\n",
        "\n",
        "cnn_results = []\n",
        "\n",
        "def img_show(img):\n",
        "\n",
        "  img = load_img(img)\n",
        "  imgplot = plt.imshow(img)\n",
        "  plt.show()\n",
        "\n",
        "def img_prediction(img, model, results):\n",
        "\n",
        "  img = load_img(img)\n",
        "  img = img_to_array(img)\n",
        "  img = np.expand_dims(img, axis=0)\n",
        "  \n",
        "  img = tf.cast(img, tf.float32)\n",
        "  img = (img/127.5) - 1\n",
        "  img = tf.image.resize(img, [256, 256])\n",
        "\n",
        "  pred = model.predict(img)\n",
        "  results.append(pred)\n",
        " \n",
        "  # damage_dict = {}\n",
        "  # damage_dict['No damage'] = pred[0][0]\n",
        "  # damage_dict['Mild damage'] = pred[0][1]\n",
        "  # damage_dict['Severe damage'] = pred[0][2]\n",
        "\n",
        "  # for key, value in damage_dict.items():\n",
        "  #   print(key, \": \", value)\n",
        "  # print(\"Classification: \", max(damage_dict, key = damage_dict.get))"
      ],
      "execution_count": null,
      "outputs": []
    },
    {
      "cell_type": "code",
      "metadata": {
        "id": "tA7CueM40Hhr",
        "colab_type": "code",
        "colab": {}
      },
      "source": [
        "# get results\n",
        " \n",
        "!unzip -uq '/content/gdrive/My Drive/riskmap_urop/puerto_rico_test'\n",
        "path = os.path.expanduser('puerto_rico_test/')\n",
        "\n",
        "import glob\n",
        "images = glob.glob(path + '/*.jpg')\n",
        "\n",
        "# binary\n",
        "\n",
        "# model is binary_model\n",
        "# results is binary_results\n",
        "binary_results = []\n",
        "\n",
        "for img in images:\n",
        "  img_prediction(img, binary_model, binary_results)\n",
        "\n",
        "# normal\n",
        "\n",
        "# model is cnn_model\n",
        "# results is cnn_results\n",
        "normal_results = []\n",
        "\n",
        "for img in images:\n",
        "  img_prediction(img, normal_model, normal_results)"
      ],
      "execution_count": null,
      "outputs": []
    },
    {
      "cell_type": "code",
      "metadata": {
        "id": "AfE7nDuf1uLB",
        "colab_type": "code",
        "colab": {
          "base_uri": "https://localhost:8080/",
          "height": 745
        },
        "outputId": "457aed3c-8280-44ac-8743-2f694303baaa"
      },
      "source": [
        "# num_images = len(rf_results)\n",
        "i = 0\n",
        "binary_weight = 1\n",
        "normal_weight = 1\n",
        "\n",
        "truth = [\"severe\", \"none\", \"severe\", \"none\", \"severe\", \"mild\", \"severe\", \"severe\", \"severe\", \"none\"]\n",
        "correct = 0\n",
        "\n",
        "for img in images:\n",
        "  img_show(img)\n",
        "  binary = binary_results[i]\n",
        "  normal = normal_results[i]\n",
        "  none = (binary[0][0]*binary_weight + normal[0][0]*normal_weight)/2\n",
        "  mild = (binary[0][2]*binary_weight + normal[0][1]*normal_weight)/2\n",
        "  severe = (binary[0][2]*binary_weight + normal[0][2]*normal_weight)/2\n",
        "  if none > mild and none > severe:\n",
        "    result = \"none\"\n",
        "  elif mild > severe:\n",
        "    result = \"mild\"\n",
        "  else: \n",
        "    result = \"severe\"\n",
        "  print(\"Classification:\", result)\n",
        "  if result == truth[i]:\n",
        "    correct += 1\n",
        "  print(\"None:\", none)\n",
        "  print(\"Mild:\", mild)\n",
        "  print(\"Severe:\", severe)\n",
        "  i += 1\n",
        "\n",
        "print()\n",
        "print(\"Percentage Correct:\", correct/0.1, \"%\")"
      ],
      "execution_count": null,
      "outputs": [
        {
          "output_type": "stream",
          "text": [
            "Classification: severe\n",
            "None: 0.010808763094246387\n",
            "Mild: 0.5288341715931892\n",
            "Severe: 0.9528705477714539\n",
            "Classification: none\n",
            "None: 0.788516640663147\n",
            "Mild: 0.192634551320225\n",
            "Severe: 0.02333031641319394\n",
            "Classification: severe\n",
            "None: 0.295333968475461\n",
            "Mild: 0.5142117105424404\n",
            "Severe: 0.6648329347372055\n",
            "Classification: none\n",
            "None: 0.7465288192033768\n",
            "Mild: 0.22606128110783175\n",
            "Severe: 0.027813364111352712\n",
            "Classification: severe\n",
            "None: 0.01825191220268607\n",
            "Mild: 0.5042821895331144\n",
            "Severe: 0.9658937454223633\n",
            "Classification: none\n",
            "None: 0.53940025344491\n",
            "Mild: 0.26555923774139956\n",
            "Severe: 0.19579173281090334\n",
            "Classification: none\n",
            "None: 0.8755742311477661\n",
            "Mild: 0.12230760621605441\n",
            "Severe: 0.12377564958296716\n",
            "Classification: severe\n",
            "None: 0.005906411213800311\n",
            "Mild: 0.4995107327122241\n",
            "Severe: 0.9913747012615204\n",
            "Classification: severe\n",
            "None: 0.012519171228632331\n",
            "Mild: 0.545195534825325\n",
            "Severe: 0.939061313867569\n",
            "Classification: none\n",
            "None: 0.8104947805404663\n",
            "Mild: 0.179617256988422\n",
            "Severe: 0.009933408480719663\n",
            "\n",
            "Percentage Correct: 80.0 %\n"
          ],
          "name": "stdout"
        }
      ]
    },
    {
      "cell_type": "code",
      "metadata": {
        "id": "8ZISycOR77bb",
        "colab_type": "code",
        "colab": {
          "base_uri": "https://localhost:8080/",
          "height": 71
        },
        "outputId": "b12641aa-762b-4d0e-aa51-bdfa6290fdfb"
      },
      "source": [
        "# get results\n",
        "\n",
        "import glob\n",
        "\n",
        "!unzip -uq '/content/gdrive/My Drive/riskmap_urop/none'\n",
        "path = os.path.expanduser('all_none/')\n",
        "none_images = glob.glob(path + '/*.jpg')\n",
        "\n",
        "!unzip -uq '/content/gdrive/My Drive/riskmap_urop/mild'\n",
        "path = os.path.expanduser('all_mild/')\n",
        "mild_images = glob.glob(path + '/*.jpg')\n",
        "\n",
        "!unzip -uq '/content/gdrive/My Drive/riskmap_urop/severe'\n",
        "path = os.path.expanduser('all_severe/')\n",
        "severe_images = glob.glob(path + '/*.jpg')\n",
        "\n",
        "num_test_images = 100\n",
        "\n",
        "images = none_images[:num_test_images] + mild_images[:num_test_images] + severe_images[:num_test_images]\n",
        "\n",
        "# binary\n",
        "\n",
        "# model is binary_model\n",
        "# results is binary_results\n",
        "binary_results = []\n",
        "\n",
        "for img in images:\n",
        "  img_prediction(img, binary_model, binary_results)\n",
        "\n",
        "# normal\n",
        "\n",
        "# model is cnn_model\n",
        "# results is cnn_results\n",
        "normal_results = []\n",
        "\n",
        "for img in images:\n",
        "  img_prediction(img, normal_model, normal_results)"
      ],
      "execution_count": null,
      "outputs": [
        {
          "output_type": "stream",
          "text": [
            "/usr/local/lib/python3.6/dist-packages/PIL/TiffImagePlugin.py:788: UserWarning: Corrupt EXIF data.  Expecting to read 4 bytes but only got 0. \n",
            "  warnings.warn(str(msg))\n"
          ],
          "name": "stderr"
        }
      ]
    },
    {
      "cell_type": "code",
      "metadata": {
        "id": "MpN_dl0V79eN",
        "colab_type": "code",
        "colab": {
          "base_uri": "https://localhost:8080/",
          "height": 51
        },
        "outputId": "0fd553a0-894a-4064-eb16-3cd5bd8e5c45"
      },
      "source": [
        "# num_images = len(rf_results)\n",
        "i = 0\n",
        "binary_weight = 1\n",
        "normal_weight = 1\n",
        "\n",
        "correct = 0\n",
        "\n",
        "for img in images:\n",
        "  # img_show(img)\n",
        "  binary = binary_results[i]\n",
        "  normal = normal_results[i]\n",
        "  none = (binary[0][0]*binary_weight + normal[0][0]*normal_weight)/2\n",
        "  mild = (binary[0][2]*binary_weight + normal[0][1]*normal_weight)/2\n",
        "  severe = (binary[0][2]*binary_weight + normal[0][2]*normal_weight)/2\n",
        "  if none > mild and none > severe:\n",
        "    result = \"none\"\n",
        "  elif mild > severe:\n",
        "    result = \"mild\"\n",
        "  else: \n",
        "    result = \"severe\"\n",
        "  # print(\"Classification:\", result)\n",
        "  if i <= num_test_images and result == \"none\":\n",
        "    correct += 1\n",
        "  if i > num_test_images and i <= num_test_images*2 and result == \"mild\":\n",
        "    correct += 1\n",
        "  if i > num_test_images*2 and result == \"severe\":\n",
        "    correct += 1\n",
        "  # print(\"None:\", none)\n",
        "  # print(\"Mild:\", mild)\n",
        "  # print(\"Severe:\", severe)\n",
        "  i += 1\n",
        "\n",
        "# print()\n",
        "print(\"Percentage Correct:\", 100*correct/len(images), \"%\")"
      ],
      "execution_count": null,
      "outputs": [
        {
          "output_type": "stream",
          "text": [
            "\n",
            "Percentage Correct: 76.0 %\n"
          ],
          "name": "stdout"
        }
      ]
    }
  ]
}