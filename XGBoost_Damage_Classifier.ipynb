{
  "nbformat": 4,
  "nbformat_minor": 0,
  "metadata": {
    "colab": {
      "name": "XGBoost Damage Classifier.ipynb",
      "provenance": [],
      "collapsed_sections": []
    },
    "kernelspec": {
      "name": "python3",
      "display_name": "Python 3"
    }
  },
  "cells": [
    {
      "cell_type": "code",
      "metadata": {
        "id": "d_7iAo6k4ZtZ",
        "colab_type": "code",
        "colab": {
          "base_uri": "https://localhost:8080/",
          "height": 123
        },
        "outputId": "beea0856-accd-4ebc-8b6b-ccd525d2db86"
      },
      "source": [
        "from google.colab import drive\n",
        "drive.mount('/content/gdrive')"
      ],
      "execution_count": null,
      "outputs": [
        {
          "output_type": "stream",
          "text": [
            "Go to this URL in a browser: https://accounts.google.com/o/oauth2/auth?client_id=947318989803-6bn6qk8qdgf4n4g3pfee6491hc0brc4i.apps.googleusercontent.com&redirect_uri=urn%3aietf%3awg%3aoauth%3a2.0%3aoob&response_type=code&scope=email%20https%3a%2f%2fwww.googleapis.com%2fauth%2fdocs.test%20https%3a%2f%2fwww.googleapis.com%2fauth%2fdrive%20https%3a%2f%2fwww.googleapis.com%2fauth%2fdrive.photos.readonly%20https%3a%2f%2fwww.googleapis.com%2fauth%2fpeopleapi.readonly\n",
            "\n",
            "Enter your authorization code:\n",
            "··········\n",
            "Mounted at /content/gdrive\n"
          ],
          "name": "stdout"
        }
      ]
    },
    {
      "cell_type": "code",
      "metadata": {
        "id": "R_RNDLC0v65M",
        "colab_type": "code",
        "colab": {}
      },
      "source": [
        "from google.colab import files\n",
        "from PIL import Image\n",
        "import numpy as np\n",
        "from numpy import asarray \n",
        "import pandas as pd\n",
        "import torchvision\n",
        "from torchvision import transforms\n",
        "import xgboost as xgb\n",
        "import sklearn\n",
        "from sklearn.metrics import mean_squared_error"
      ],
      "execution_count": null,
      "outputs": []
    },
    {
      "cell_type": "code",
      "metadata": {
        "id": "P9wVwAX0cqfY",
        "colab_type": "code",
        "colab": {}
      },
      "source": [
        "# upload files from computer\n",
        "\n",
        "labels_array = []\n",
        "\n",
        "data = {}\n",
        "\n",
        "# how many images from each folder to take\n",
        "num = 50\n",
        "image_size = 100"
      ],
      "execution_count": null,
      "outputs": []
    },
    {
      "cell_type": "code",
      "metadata": {
        "id": "jovSHpVRf0nS",
        "colab_type": "code",
        "colab": {}
      },
      "source": [
        "# add empty arrays to dictionary\n",
        "slots = image_size * image_size * 3\n",
        "for i in range(slots):\n",
        "  data[i] = []"
      ],
      "execution_count": null,
      "outputs": []
    },
    {
      "cell_type": "code",
      "metadata": {
        "id": "-1WyIfQaiOkl",
        "colab_type": "code",
        "colab": {}
      },
      "source": [
        "# add target\n",
        "\n",
        "data['labels'] = labels_array"
      ],
      "execution_count": null,
      "outputs": []
    },
    {
      "cell_type": "code",
      "metadata": {
        "id": "EH9eF7VQcq7y",
        "colab_type": "code",
        "colab": {}
      },
      "source": [
        "def process_image(image):\n",
        "  \"\"\"\n",
        "  Takes in image. Returns padded numpy array. \n",
        "  \"\"\"\n",
        "  PIL_image = image[0] # get PIL Image only\n",
        "  PIL_image.thumbnail((image_size, image_size)) # resize PIL image\n",
        "  np_array = np.array(PIL_image) # convert to numpy array\n",
        "  result = np.zeros((image_size, image_size, 3))\n",
        "  result[:np_array.shape[0],:np_array.shape[1]] = np_array\n",
        "  # result currently holds the padded image\n",
        "  flat = result.flatten()\n",
        "  # add values to data dictionary\n",
        "  for i in range(slots):\n",
        "    data[i].append(flat[i])\n"
      ],
      "execution_count": null,
      "outputs": []
    },
    {
      "cell_type": "code",
      "metadata": {
        "id": "BC5AW5RCcq4A",
        "colab_type": "code",
        "colab": {}
      },
      "source": [
        "# none\n",
        "none_path = '/content/gdrive/My Drive/riskmap_urop/all_none'\n",
        "all_none = torchvision.datasets.ImageFolder(root = none_path)\n",
        "# images come in as tuple of (PIL Image, 0)\n",
        "#for image in all_none:\n",
        "for i in range(num):\n",
        "  image = all_none[i]\n",
        "  result = process_image(image)\n",
        "  labels_array.append(0)"
      ],
      "execution_count": null,
      "outputs": []
    },
    {
      "cell_type": "code",
      "metadata": {
        "id": "YA_Dpzgqcq1c",
        "colab_type": "code",
        "colab": {}
      },
      "source": [
        "# mild\n",
        "mild_path = '/content/gdrive/My Drive/riskmap_urop/all_mild'\n",
        "all_mild = torchvision.datasets.ImageFolder(root = mild_path)\n",
        "#for image in all_mild:\n",
        "for i in range(num):\n",
        "  image = all_mild[i]\n",
        "  result = process_image(image)\n",
        "  labels_array.append(1)"
      ],
      "execution_count": null,
      "outputs": []
    },
    {
      "cell_type": "code",
      "metadata": {
        "id": "CvHUYRZYcqyG",
        "colab_type": "code",
        "colab": {}
      },
      "source": [
        "# severe\n",
        "severe_path = '/content/gdrive/My Drive/riskmap_urop/all_severe'\n",
        "all_severe = torchvision.datasets.ImageFolder(root = severe_path)\n",
        "#for image in all_severe:\n",
        "for i in range(num):\n",
        "  image = all_severe[i]\n",
        "  result = process_image(image)\n",
        "  labels_array.append(2)"
      ],
      "execution_count": null,
      "outputs": []
    },
    {
      "cell_type": "code",
      "metadata": {
        "id": "ytj6nhSlW5JZ",
        "colab_type": "code",
        "colab": {}
      },
      "source": [
        "df = pd.DataFrame(data)"
      ],
      "execution_count": null,
      "outputs": []
    },
    {
      "cell_type": "code",
      "metadata": {
        "id": "v7S0J6HWwUOn",
        "colab_type": "code",
        "colab": {}
      },
      "source": [
        "# split into data and target\n",
        "X, y = df.iloc[:,:-1], df.iloc[:,-1]"
      ],
      "execution_count": null,
      "outputs": []
    },
    {
      "cell_type": "code",
      "metadata": {
        "id": "zqagQkZ4QLUD",
        "colab_type": "code",
        "colab": {}
      },
      "source": [
        "from sklearn.model_selection import train_test_split\n",
        "\n",
        "X_train, X_test, y_train, y_test = train_test_split(X, y, test_size=0.2)"
      ],
      "execution_count": null,
      "outputs": []
    },
    {
      "cell_type": "markdown",
      "metadata": {
        "id": "G3dvwBgqaWdL",
        "colab_type": "text"
      },
      "source": [
        "XGBClassifier is an implementation of the scikit-learn API for XGBoost classification while xgb.train seems to return a native xgb Booster object. "
      ]
    },
    {
      "cell_type": "code",
      "metadata": {
        "id": "zNkfXknMfOpV",
        "colab_type": "code",
        "colab": {}
      },
      "source": [
        "# used https://towardsdatascience.com/boosting-techniques-in-python-predicting-hotel-cancellations-62b7a76ffa6c"
      ],
      "execution_count": null,
      "outputs": []
    },
    {
      "cell_type": "code",
      "metadata": {
        "id": "bda-dN-1qKyy",
        "colab_type": "code",
        "colab": {
          "base_uri": "https://localhost:8080/",
          "height": 138
        },
        "outputId": "83d7d908-5295-4aa5-a9f3-6a1c6bc179c3"
      },
      "source": [
        "# start prediction\n",
        "xgb_model = xgb.XGBClassifier(max_depth = 3, eta = 0.3, silent = 1, objective = 'multi:softprob', num_class = 3, learning_rate = 0.001, n_estimators = 20, scale_pos_weight = 3)\n",
        "# xgb_model = xgb.XGBClassifier(learning_rate=0.001, max_depth = 1, n_estimators = 20, scale_pos_weight=5)\n",
        "xgb_model.fit(X_train, y_train)"
      ],
      "execution_count": null,
      "outputs": [
        {
          "output_type": "execute_result",
          "data": {
            "text/plain": [
              "XGBClassifier(base_score=0.5, booster='gbtree', colsample_bylevel=1,\n",
              "              colsample_bynode=1, colsample_bytree=1, eta=0.3, gamma=0,\n",
              "              learning_rate=0.001, max_delta_step=0, max_depth=3,\n",
              "              min_child_weight=1, missing=None, n_estimators=20, n_jobs=1,\n",
              "              nthread=None, num_class=3, objective='multi:softprob',\n",
              "              random_state=0, reg_alpha=0, reg_lambda=1, scale_pos_weight=3,\n",
              "              seed=None, silent=1, subsample=1, verbosity=1)"
            ]
          },
          "metadata": {
            "tags": []
          },
          "execution_count": 69
        }
      ]
    },
    {
      "cell_type": "code",
      "metadata": {
        "id": "Op-gZkJQqSwg",
        "colab_type": "code",
        "colab": {
          "base_uri": "https://localhost:8080/",
          "height": 51
        },
        "outputId": "91623e1a-2317-43d6-fe6e-0a21dbd8ecad"
      },
      "source": [
        "print(\"Accuracy on training set: {:.3f}\".format(xgb_model.score(X_train, y_train)))\n",
        "print(\"Accuracy on validation set: {:.3f}\".format(xgb_model.score(X_test, y_test)))"
      ],
      "execution_count": null,
      "outputs": [
        {
          "output_type": "stream",
          "text": [
            "Accuracy on training set: 0.933\n",
            "Accuracy on validation set: 0.267\n"
          ],
          "name": "stdout"
        }
      ]
    },
    {
      "cell_type": "code",
      "metadata": {
        "id": "-VSkYcsAjfSq",
        "colab_type": "code",
        "colab": {
          "base_uri": "https://localhost:8080/",
          "height": 34
        },
        "outputId": "78fc732d-150a-4373-af8c-6f6e3c0fdcc8"
      },
      "source": [
        "from sklearn.metrics import precision_score\n",
        "print(precision_score(y_test, best_preds, average='macro'))"
      ],
      "execution_count": null,
      "outputs": [
        {
          "output_type": "stream",
          "text": [
            "0.3552631578947369\n"
          ],
          "name": "stdout"
        }
      ]
    },
    {
      "cell_type": "code",
      "metadata": {
        "id": "CrsHgxi6qsI3",
        "colab_type": "code",
        "colab": {
          "base_uri": "https://localhost:8080/",
          "height": 242
        },
        "outputId": "d2546922-818e-43ca-b299-741e7e36b84d"
      },
      "source": [
        "xgb_predict = xgb_model.predict(X_test)\n",
        "from sklearn.metrics import classification_report,confusion_matrix\n",
        "cm = confusion_matrix(y_test, xgb_predict)\n",
        "print(cm)\n",
        "print(classification_report(y_test, xgb_predict))"
      ],
      "execution_count": null,
      "outputs": [
        {
          "output_type": "stream",
          "text": [
            "[[6 0 0]\n",
            " [8 1 7]\n",
            " [6 1 1]]\n",
            "              precision    recall  f1-score   support\n",
            "\n",
            "           0       0.30      1.00      0.46         6\n",
            "           1       0.50      0.06      0.11        16\n",
            "           2       0.12      0.12      0.12         8\n",
            "\n",
            "    accuracy                           0.27        30\n",
            "   macro avg       0.31      0.40      0.23        30\n",
            "weighted avg       0.36      0.27      0.18        30\n",
            "\n"
          ],
          "name": "stdout"
        }
      ]
    },
    {
      "cell_type": "code",
      "metadata": {
        "id": "Xp42po6bqsMp",
        "colab_type": "code",
        "colab": {
          "base_uri": "https://localhost:8080/",
          "height": 463
        },
        "outputId": "fd22d266-e513-4625-bbaa-35d54ef9daed"
      },
      "source": [
        "%matplotlib inline\n",
        "import matplotlib.pyplot as plt \n",
        "import seaborn as sn \n",
        "plt.figure(figsize = (10, 7))\n",
        "sn.heatmap(cm, annot = True)\n",
        "# change label 0 1 2\n",
        "plt.xlabel('Predicted')\n",
        "plt.ylabel('Truth')"
      ],
      "execution_count": null,
      "outputs": [
        {
          "output_type": "execute_result",
          "data": {
            "text/plain": [
              "Text(69.0, 0.5, 'Truth')"
            ]
          },
          "metadata": {
            "tags": []
          },
          "execution_count": 65
        },
        {
          "output_type": "display_data",
          "data": {
            "image/png": "[encoded data removed]",
            "text/plain": [
              "<Figure size 720x504 with 2 Axes>"
            ]
          },
          "metadata": {
            "tags": [],
            "needs_background": "light"
          }
        }
      ]
    },
    {
      "cell_type": "code",
      "metadata": {
        "id": "dTB8eoDqjfQM",
        "colab_type": "code",
        "colab": {}
      },
      "source": [
        "# save model for use later\n",
        "# from sklearn.externals import joblib\n",
        "# joblib.dump(bst, 'bst_model.pkl', compress=True)\n",
        "# bst = joblib.load('bst_model.pkl') # load it later"
      ],
      "execution_count": null,
      "outputs": []
    }
  ]
}